{
 "cells": [
  {
   "cell_type": "code",
   "execution_count": 18,
   "metadata": {
    "collapsed": true
   },
   "outputs": [],
   "source": [
    "import pymongo\n",
    "import sympy\n",
    "from sympy.parsing.sympy_parser import parse_expr\n",
    "import os"
   ]
  },
  {
   "cell_type": "code",
   "execution_count": 3,
   "metadata": {
    "collapsed": true
   },
   "outputs": [],
   "source": [
    "# Maybe you have to change mongo url to something else if you're non the DAQ network? See cax.config.\n",
    "client = pymongo.MongoClient('mongodb://eb:%s@xenon1t-daq.lngs.infn.it:27017/run' % os.environ['MONGO_PASSWORD'])"
   ]
  },
  {
   "cell_type": "markdown",
   "metadata": {},
   "source": [
    "# Check format from purity collection"
   ]
  },
  {
   "cell_type": "code",
   "execution_count": 14,
   "metadata": {
    "collapsed": false
   },
   "outputs": [
    {
     "data": {
      "text/plain": [
       "12"
      ]
     },
     "execution_count": 14,
     "metadata": {},
     "output_type": "execute_result"
    }
   ],
   "source": [
    "purity_coll = client['run']['purity']\n",
    "purity_coll.count()"
   ]
  },
  {
   "cell_type": "code",
   "execution_count": 15,
   "metadata": {
    "collapsed": false
   },
   "outputs": [],
   "source": [
    "d = purity_coll.find_one()"
   ]
  },
  {
   "cell_type": "code",
   "execution_count": 17,
   "metadata": {
    "collapsed": false
   },
   "outputs": [
    {
     "name": "stdout",
     "output_type": "stream",
     "text": [
      "2017-02-15 10:36:32.554000 571.536805205327/(1 + 2.85936983046934e+138*exp(-2.15875349579075e-7*t))\n",
      "2017-02-09 11:34:52.728000 726.439274517567/(1 + 2.0260694424652e+84*exp(-1.3126159999747e-7*t))\n",
      "2017-02-08 12:40:54.433000 726.439274517567/(1 + 2.0260694424652e+84*exp(-1.3126159999747e-7*t))\n",
      "2017-01-12 16:57:05.376000 664.009433008032/(1 + 9.20429790014259e+57*exp(-9.05409401619292e-8*t))\n",
      "2016-12-07 15:24:34.858000 3293.34246828997/(1 + 3.61800535059737e+15*exp(-2.29229212119497e-8*t))\n",
      "2016-10-19 10:10:51.244000 451.092742358951/(1 + 2.19032421518171e+1011*exp(-1.57823407887515e-6*t))\n",
      "2016-09-19 05:55:53.102000 317.29661042819/(1 + 1.05633549046867e+880*exp(-1.37598762559539e-6*t))\n",
      "2016-09-19 05:55:53.102000 317.29661042819/(1 + 1.05633549046867e+880*exp(-1.37598762559539e-6*t))\n",
      "2016-07-26 10:23:33.859000 323.085761530256/(1 + 2.60535248526874e+1028*exp(-1.61211864700664e-6*t))\n",
      "2016-07-26 10:23:33.859000 323.085761530256/(1 + 2.60535248526874e+1028*exp(-1.61211864700664e-6*t))\n",
      "2016-07-14 12:11:37.671000 299.124801429751/(1 + 1.22494241740575e+1063*exp(-1.66807062881465e-6*t))\n",
      "2016-06-15 08:26:08.173000 9.93103054982358e-672*exp(1.05654787355925e-6*t)\n"
     ]
    }
   ],
   "source": [
    "for d in purity_coll.find(sort=(('calculation_time', -1), )):\n",
    "    print(str(d['calculation_time']), parse_expr(d['function']))"
   ]
  },
  {
   "cell_type": "markdown",
   "metadata": {},
   "source": [
    "# Try to add drift velocity correction function"
   ]
  },
  {
   "cell_type": "code",
   "execution_count": 21,
   "metadata": {
    "collapsed": true
   },
   "outputs": [],
   "source": [
    "import numpy as np"
   ]
  },
  {
   "cell_type": "code",
   "execution_count": 132,
   "metadata": {
    "collapsed": false
   },
   "outputs": [],
   "source": [
    "data = np.array([\n",
    "    4,  0.9948,       # Julien\n",
    "    5,  1.1224,       # Julien\n",
    "    6,  1.2137,       # Julien\n",
    "    7,  1.2833,       # Julien\n",
    "    8,  1.3323,       # Julien\n",
    "    9,  1.371,        # Jelle\n",
    "    12, 1.4401,       # Jelle & Julien (same value, well Julien had 1.4402 and I had 1.440...)\n",
    "    13, 1.456,\n",
    "    15, 1.482\n",
    "])\n",
    "\n",
    "cathode_kv, vdrift_kmpers = data.reshape(-1, 2).T"
   ]
  },
  {
   "cell_type": "code",
   "execution_count": 133,
   "metadata": {
    "collapsed": true
   },
   "outputs": [],
   "source": [
    "import matplotlib\n",
    "import matplotlib.pyplot as plt\n",
    "%matplotlib inline"
   ]
  },
  {
   "cell_type": "code",
   "execution_count": 149,
   "metadata": {
    "collapsed": false
   },
   "outputs": [
    {
     "data": {
      "text/plain": [
       "<matplotlib.text.Text at 0x7fd3fcc59e80>"
      ]
     },
     "execution_count": 149,
     "metadata": {},
     "output_type": "execute_result"
    },
    {
     "data": {
      "image/png": "[encoded data removed]",
      "text/plain": [
       "<matplotlib.figure.Figure at 0x7fd3fca7cac8>"
      ]
     },
     "metadata": {},
     "output_type": "display_data"
    }
   ],
   "source": [
    "vs = np.linspace(0, 20, 100)\n",
    "\n",
    "deg = len(cathode_kv) - 4\n",
    "coeffs = np.polyfit(cathode_kv, vdrift_kmpers, deg=deg)\n",
    "plt.plot(vs, np.polyval(coeffs, vs), label='%dth degree polynomial fit' % deg)\n",
    "plt.scatter(cathode_kv, vdrift_kmpers, marker='x', c='k', label='Datapoints')\n",
    "\n",
    "plt.ylim(0.5, 1.7)\n",
    "plt.legend(loc='lower right')\n",
    "plt.xlabel(\"Cathode voltage (kV)\")\n",
    "plt.ylabel(\"Drift velocity (km/sec)\")"
   ]
  },
  {
   "cell_type": "code",
   "execution_count": 150,
   "metadata": {
    "collapsed": false
   },
   "outputs": [
    {
     "data": {
      "text/plain": [
       "<matplotlib.text.Text at 0x7fd3fcaf0c50>"
      ]
     },
     "execution_count": 150,
     "metadata": {},
     "output_type": "execute_result"
    },
    {
     "data": {
      "image/png": "[encoded data removed]",
      "text/plain": [
       "<matplotlib.figure.Figure at 0x7fd3fcad1cf8>"
      ]
     },
     "metadata": {},
     "output_type": "display_data"
    }
   ],
   "source": [
    "plt.plot(cathode_kv, 100 * (np.polyval(coeffs, cathode_kv) - vdrift_kmpers)/vdrift_kmpers, \n",
    "         linestyle='', marker='x')\n",
    "plt.ylabel('Relative fit error (%)')\n",
    "plt.xlabel(\"Cathode voltage kV\")"
   ]
  },
  {
   "cell_type": "markdown",
   "metadata": {},
   "source": [
    "Systematic error on drift velocity estimates is around 0.2%, see : https://xecluster.lngs.infn.it/dokuwiki/doku.php?id=xenon:xenon1t:aalbers:drift_and_diffusion#results\n",
    "\n",
    "so if the fitter error is much less than this, we're ok."
   ]
  },
  {
   "cell_type": "markdown",
   "metadata": {},
   "source": [
    "## Make sympy function"
   ]
  },
  {
   "cell_type": "code",
   "execution_count": 153,
   "metadata": {
    "collapsed": false
   },
   "outputs": [],
   "source": [
    "v = sympy.Symbol('v')\n",
    "sp_poly = sympy.Poly.from_list(coeffs.tolist(), gens=v)"
   ]
  },
  {
   "cell_type": "code",
   "execution_count": 155,
   "metadata": {
    "collapsed": false
   },
   "outputs": [
    {
     "data": {
      "text/plain": [
       "1.30959670337438"
      ]
     },
     "execution_count": 155,
     "metadata": {},
     "output_type": "execute_result"
    }
   ],
   "source": [
    "# Sanity check:\n",
    "sp_poly.subs(dict(v=7.5))"
   ]
  },
  {
   "cell_type": "code",
   "execution_count": 166,
   "metadata": {
    "collapsed": false
   },
   "outputs": [
    {
     "data": {
      "text/plain": [
       "1.30959670337438"
      ]
     },
     "execution_count": 166,
     "metadata": {},
     "output_type": "execute_result"
    }
   ],
   "source": [
    "# Try converting to and from serialization format, repeat sanity check\n",
    "serialized_fit = sympy.srepr(sp_poly)\n",
    "parse_expr(serialized_fit).subs(dict(v=7.5))"
   ]
  },
  {
   "cell_type": "markdown",
   "metadata": {},
   "source": [
    "## Insert in runs db"
   ]
  },
  {
   "cell_type": "code",
   "execution_count": 167,
   "metadata": {
    "collapsed": true
   },
   "outputs": [],
   "source": [
    "drift_coll = client['run']['drift_velocity']"
   ]
  },
  {
   "cell_type": "code",
   "execution_count": 173,
   "metadata": {
    "collapsed": false
   },
   "outputs": [],
   "source": [
    "from datetime import datetime"
   ]
  },
  {
   "cell_type": "code",
   "execution_count": 172,
   "metadata": {
    "collapsed": false
   },
   "outputs": [
    {
     "data": {
      "text/plain": [
       "<pymongo.results.InsertOneResult at 0x7fd3fc0d7ca8>"
      ]
     },
     "execution_count": 172,
     "metadata": {},
     "output_type": "execute_result"
    }
   ],
   "source": [
    "# Uncomment this, adjust versions and comments to do actual insertion\n",
    "# drift_coll.insert_one(dict(\n",
    "#     version='1.0.0',\n",
    "#     calculation_time=datetime.now(),\n",
    "#     function=serialized_fit,\n",
    "#     comment=\"5th degree polynomial fit to Julien&Jelle's Drift velocity results. Jelle, 1 April 2017.\"\n",
    "# ))"
   ]
  }
 ],
 "metadata": {
  "kernelspec": {
   "display_name": "Python 3",
   "language": "python",
   "name": "python3"
  },
  "language_info": {
   "codemirror_mode": {
    "name": "ipython",
    "version": 3
   },
   "file_extension": ".py",
   "mimetype": "text/x-python",
   "name": "python",
   "nbconvert_exporter": "python",
   "pygments_lexer": "ipython3",
   "version": "3.4.5"
  }
 },
 "nbformat": 4,
 "nbformat_minor": 0
}
